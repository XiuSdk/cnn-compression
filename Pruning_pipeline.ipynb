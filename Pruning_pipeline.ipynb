{
 "cells": [
  {
   "cell_type": "markdown",
   "metadata": {},
   "source": [
    "For each model:\n",
    "1. Load model\n",
    "2. Score validation set\n",
    "3. Compute FLOPS and check file size and nb parameters\n",
    "4. Get accuracy\n",
    "5. Write metrics to Dataset\n",
    "6. Prune last layer using L1 (10-20-30-40-50-60 % of the filters), get metrics and score, write to file - Retrain 1 epoch and score\n",
    "7. Prune last layer using k-means random (10-20-30-40-50-60 % of the filters), get metrics and score, write to file\n",
    "8. Prune last layer using k-means centroid (10-20-30-40-50-60 % of the filters)\n",
    "9. Prune last layer using APoZ (10-20-30-40-50-60 % of the filters), get metrics and score, write to file\n",
    "10. Prune all layers using L1 (10-20-30-40-50-60 % of the filters), get metrics and score, write to file\n",
    "10. Prune all layers using APoZ (10-20-30-40-50-60 % of the filters), get metrics and score, write to file\n"
   ]
  },
  {
   "cell_type": "code",
   "execution_count": 6,
   "metadata": {},
   "outputs": [],
   "source": [
    "import warnings\n",
    "warnings.filterwarnings('ignore')"
   ]
  },
  {
   "cell_type": "code",
   "execution_count": 7,
   "metadata": {},
   "outputs": [],
   "source": [
    "import pruning_utils\n",
    "import keras\n",
    "from keras.models import load_model\n",
    "from keras.preprocessing.image import ImageDataGenerator\n",
    "import pandas as pd\n",
    "import numpy as np\n",
    "import os"
   ]
  },
  {
   "cell_type": "code",
   "execution_count": 11,
   "metadata": {},
   "outputs": [],
   "source": [
    "class PruningExperiment:\n",
    "    \n",
    "    def __init__(self, model_path, methods, percentages, retrain=False, layer=None):\n",
    "        model_file = model_path.split('/')[-1]\n",
    "        model_name = '_'.join(model_file.split('_')[:2])\n",
    "        self.model_path = model_path\n",
    "        self.methods = methods\n",
    "        self.percentages = percentages\n",
    "        self.model_name = model_name\n",
    "        self.parent_dir = '/'.join(model_path.split('/')[:-1])\n",
    "        self.retrain=retrain\n",
    "        self.layer=layer\n",
    "        \n",
    "    \n",
    "    def run(self):\n",
    "        opt = keras.optimizers.RMSprop(lr=0.0001, decay=1e-6)\n",
    "        df = pd.read_csv('/home/ec2-user/Telecom/experiments/results.csv')\n",
    "        for method in self.methods :\n",
    "            for perc in self.percentages:\n",
    "                print('pruning %s with method %s and perc %s' %(self.model_name, method,int(perc*100)))\n",
    "                # prune model\n",
    "                model = load_model('/home/ec2-user/Telecom/experiments/saved_models/keras_cnn_imagenette_trained_model.h5')\n",
    "                model_pruned = pruning_utils.prune_model(model, perc, opt, method, layer)\n",
    "                del model\n",
    "                if self.layer or self.layer ==0:\n",
    "                    pruned_model_path = os.path.join(self.parent_dir,\n",
    "                                                 self.model_name+'_pruned_%s_layer%s_%s.h5'%(method,\n",
    "                                                                                             self.layer,\n",
    "                                                                                             int(perc*100)))\n",
    "                else:\n",
    "                    pruned_model_path = os.path.join(self.parent_dir,\n",
    "                                                 self.model_name+'_pruned_%s_%s.h5'%(method,int(perc*100)))\n",
    "                    \n",
    "                model_pruned.save(pruned_model_path)\n",
    "                print('saving pruned model at %s' % pruned_model_path)\n",
    "                metrics = pruning_utils.get_model_info(pruned_model_path, model_pruned)\n",
    "                metrics['accuracy'] = self.score(model_pruned)\n",
    "                \n",
    "                #save model\n",
    "                \n",
    "                metrics['name']= self.model_name\n",
    "                metrics['method'] = method\n",
    "                metrics['pruning'] = int(perc*100)\n",
    "                metrics['path'] = pruned_model_path\n",
    "                df=df.append(metrics, ignore_index=True)\n",
    "                \n",
    "                if self.retrain :\n",
    "                    model_pruned_retrain = self.train(model_pruned, 1)\n",
    "                    del model_pruned\n",
    "                    retrain_model_path = os.path.join(self.parent_dir,\n",
    "                                                     self.model_name+'_pruned_retrained_%s_%s.h5'%(method,int(perc*100)))\n",
    "                    model_pruned_retrain.save(retrain_model_path)\n",
    "                    print('saving pruned & retrained model at %s' % retrain_model_path)\n",
    "                    metrics = pruning_utils.get_model_info(retrain_model_path, model_pruned_retrain)\n",
    "                    metrics['accuracy'] = self.score(model_pruned_retrain)\n",
    "            \n",
    "        df.to_csv('/home/ec2-user/Telecom/experiments/results.csv')\n",
    "        return self\n",
    "    \n",
    "    def train(self, model, epochs):\n",
    "        \n",
    "        train_path = '/home/ec2-user/Telecom/experiments/data/imagenette2-320/train'\n",
    "\n",
    "        # The data, split between train and test sets:\n",
    "        train_datagen = ImageDataGenerator(\n",
    "                rescale=1./255,    \n",
    "                featurewise_center=False,  \n",
    "                samplewise_center=False,  \n",
    "                featurewise_std_normalization=False,  \n",
    "                samplewise_std_normalization=False,  \n",
    "                zca_whitening=False,  \n",
    "                rotation_range=15,  \n",
    "                width_shift_range=0.1,  \n",
    "                height_shift_range=0.1,  \n",
    "                horizontal_flip=True,  \n",
    "                vertical_flip=False)\n",
    "        \n",
    "        train_generator = train_datagen.flow_from_directory(\n",
    "        train_path,\n",
    "        target_size=(160, 160),\n",
    "        batch_size=32,\n",
    "        class_mode='categorical')\n",
    "        \n",
    "        test_datagen = ImageDataGenerator(rescale=1./255)\n",
    "        test_dir = \"/home/ec2-user/Telecom/experiments/data/imagenette2-320/val\"\n",
    "        validation_generator = test_datagen.flow_from_directory(\n",
    "                test_dir,\n",
    "                target_size=(160, 160),\n",
    "                batch_size=1,\n",
    "                class_mode='categorical',\n",
    "                shuffle= False)\n",
    "        \n",
    "        model.fit_generator(\n",
    "          train_generator,\n",
    "          epochs=epochs,\n",
    "          validation_data=validation_generator,\n",
    "          steps_per_epoch = 300,\n",
    "          validation_steps = 150,\n",
    "          verbose = 1,\n",
    "        )\n",
    "        \n",
    "        return model\n",
    "    \n",
    "    def score(self, model):\n",
    "        test_datagen = ImageDataGenerator(rescale=1./255)\n",
    "        test_dir = \"/home/ec2-user/Telecom/experiments/data/imagenette2-320/val\"\n",
    "        validation_generator = test_datagen.flow_from_directory(\n",
    "                test_dir,\n",
    "                target_size=(160, 160),\n",
    "                batch_size=1,\n",
    "                class_mode='categorical',\n",
    "                shuffle= False)\n",
    "        \n",
    "        accuracy = pruning_utils.evaluate(model, validation_generator)\n",
    "        return accuracy"
   ]
  },
  {
   "cell_type": "markdown",
   "metadata": {},
   "source": [
    "#### Initialization"
   ]
  },
  {
   "cell_type": "code",
   "execution_count": 4,
   "metadata": {},
   "outputs": [],
   "source": [
    "model_path='/home/ec2-user/Telecom/experiments/saved_models/keras_cnn_imagenette_trained_model.h5'\n",
    "results_path = '/home/ec2-user/Telecom/experiments/results.csv'\n",
    "\n",
    "model_file = model_path.split('/')[-1]\n",
    "model_name = '_'.join(model_file.split('_')[:2])"
   ]
  },
  {
   "cell_type": "code",
   "execution_count": 11,
   "metadata": {
    "scrolled": true
   },
   "outputs": [
    {
     "name": "stdout",
     "output_type": "stream",
     "text": [
      "Found 3925 images belonging to 10 classes.\n",
      "3925/3925 [==============================] - 87s 22ms/step\n"
     ]
    }
   ],
   "source": [
    "test_datagen = ImageDataGenerator(rescale=1./255)\n",
    "test_dir = \"/home/ec2-user/Telecom/experiments/data/imagenette2-320/val\"\n",
    "validation_generator = test_datagen.flow_from_directory(\n",
    "                test_dir,\n",
    "                target_size=(160, 160),\n",
    "                batch_size=1,\n",
    "                class_mode='categorical',\n",
    "                shuffle= False)\n",
    "        \n",
    "model = load_model(model_path)\n",
    "metrics = pruning_utils.get_model_info(model_path, model)\n",
    "metrics['accuracy'] = pruning_utils.evaluate(model, validation_generator)\n",
    "metrics['name']= model_name\n",
    "metrics['method'] = 'baseline'\n",
    "metrics['pruning'] = 0\n",
    "metrics['path'] = model_path\n",
    "\n",
    "df = pd.DataFrame(columns=metrics.keys())\n",
    "df = df.append(metrics, ignore_index=True)\n",
    "df.to_csv(results_path, index=False)"
   ]
  },
  {
   "cell_type": "markdown",
   "metadata": {},
   "source": [
    "#### Pipeline"
   ]
  },
  {
   "cell_type": "code",
   "execution_count": 25,
   "metadata": {},
   "outputs": [],
   "source": [
    "# L1 all layers\n",
    "exp = PruningExperiment(model_path, ['l1'], [0.1,0.2,0.3,0.4,0.5])"
   ]
  },
  {
   "cell_type": "code",
   "execution_count": 26,
   "metadata": {
    "collapsed": true
   },
   "outputs": [
    {
     "name": "stdout",
     "output_type": "stream",
     "text": [
      "pruning keras_cnn with method l1 and perc 10\n",
      "Deleting 96/256 channels from layer: conv2d_68\n",
      "saving pruned model at /home/ec2-user/Telecom/experiments/saved_models/keras_cnn_pruned_l1_10.h5\n",
      "Found 3925 images belonging to 10 classes.\n",
      "3925/3925 [==============================] - 76s 19ms/step\n",
      "pruning keras_cnn with method l1 and perc 20\n",
      "Deleting 26/256 channels from layer: conv2d_67\n",
      "Deleting 166/256 channels from layer: conv2d_68\n",
      "saving pruned model at /home/ec2-user/Telecom/experiments/saved_models/keras_cnn_pruned_l1_20.h5\n",
      "Found 3925 images belonging to 10 classes.\n",
      "3925/3925 [==============================] - 68s 17ms/step\n",
      "pruning keras_cnn with method l1 and perc 30\n",
      "Deleting 84/256 channels from layer: conv2d_67\n",
      "Deleting 204/256 channels from layer: conv2d_68\n",
      "saving pruned model at /home/ec2-user/Telecom/experiments/saved_models/keras_cnn_pruned_l1_30.h5\n",
      "Found 3925 images belonging to 10 classes.\n",
      "3925/3925 [==============================] - 63s 16ms/step\n",
      "pruning keras_cnn with method l1 and perc 40\n",
      "Deleting 150/256 channels from layer: conv2d_67\n",
      "Deleting 234/256 channels from layer: conv2d_68\n",
      "saving pruned model at /home/ec2-user/Telecom/experiments/saved_models/keras_cnn_pruned_l1_40.h5\n",
      "Found 3925 images belonging to 10 classes.\n",
      "3925/3925 [==============================] - 60s 15ms/step\n",
      "pruning keras_cnn with method l1 and perc 50\n",
      "Deleting 227/256 channels from layer: conv2d_67\n",
      "Deleting 253/256 channels from layer: conv2d_68\n",
      "saving pruned model at /home/ec2-user/Telecom/experiments/saved_models/keras_cnn_pruned_l1_50.h5\n",
      "Found 3925 images belonging to 10 classes.\n",
      "3925/3925 [==============================] - 57s 14ms/step\n"
     ]
    },
    {
     "data": {
      "text/plain": [
       "<__main__.PruningExperiment at 0x7f096496e710>"
      ]
     },
     "execution_count": 26,
     "metadata": {},
     "output_type": "execute_result"
    }
   ],
   "source": [
    "exp.run()"
   ]
  },
  {
   "cell_type": "code",
   "execution_count": 29,
   "metadata": {
    "collapsed": true
   },
   "outputs": [
    {
     "name": "stdout",
     "output_type": "stream",
     "text": [
      "pruning keras_cnn with method apoz and perc 10\n",
      "Found 944 images belonging to 10 classes.\n",
      "944/944 [==============================] - 6s 7ms/step\n",
      "944/944 [==============================] - 9s 9ms/step\n",
      "944/944 [==============================] - 10s 11ms/step\n",
      "944/944 [==============================] - 12s 13ms/step\n",
      "944/944 [==============================] - 13s 14ms/step\n",
      "944/944 [==============================] - 14s 15ms/step\n",
      "944/944 [==============================] - 15s 16ms/step\n",
      "944/944 [==============================] - 16s 17ms/step\n",
      "Deleting 1/256 channels from layer: conv2d_67\n",
      "Deleting 95/256 channels from layer: conv2d_68\n",
      "saving pruned model at /home/ec2-user/Telecom/experiments/saved_models/keras_cnn_pruned_apoz_10.h5\n",
      "Found 3925 images belonging to 10 classes.\n",
      "3925/3925 [==============================] - 78s 20ms/step\n",
      "pruning keras_cnn with method apoz and perc 20\n",
      "Found 944 images belonging to 10 classes.\n",
      "944/944 [==============================] - 6s 7ms/step\n",
      "944/944 [==============================] - 9s 10ms/step\n",
      "944/944 [==============================] - 10s 11ms/step\n",
      "944/944 [==============================] - 12s 13ms/step\n",
      "944/944 [==============================] - 13s 14ms/step\n",
      "944/944 [==============================] - 15s 16ms/step\n",
      "944/944 [==============================] - 15s 16ms/step\n",
      "944/944 [==============================] - 17s 18ms/step\n",
      "Deleting 1/32 channels from layer: conv2d_61\n",
      "Deleting 1/256 channels from layer: conv2d_67\n",
      "Deleting 190/256 channels from layer: conv2d_68\n",
      "saving pruned model at /home/ec2-user/Telecom/experiments/saved_models/keras_cnn_pruned_apoz_20.h5\n",
      "Found 3925 images belonging to 10 classes.\n",
      "3925/3925 [==============================] - 71s 18ms/step\n",
      "pruning keras_cnn with method apoz and perc 30\n",
      "Found 944 images belonging to 10 classes.\n",
      "944/944 [==============================] - 7s 7ms/step\n",
      "944/944 [==============================] - 9s 10ms/step\n",
      "944/944 [==============================] - 10s 11ms/step\n",
      "944/944 [==============================] - 13s 13ms/step\n",
      "944/944 [==============================] - 14s 14ms/step\n",
      "944/944 [==============================] - 15s 16ms/step\n",
      "944/944 [==============================] - 16s 17ms/step\n",
      "944/944 [==============================] - 17s 18ms/step\n",
      "Deleting 4/32 channels from layer: conv2d_61\n",
      "Deleting 1/32 channels from layer: conv2d_62\n",
      "Deleting 7/64 channels from layer: conv2d_63\n",
      "Deleting 14/64 channels from layer: conv2d_64\n",
      "Deleting 6/128 channels from layer: conv2d_65\n",
      "Deleting 5/128 channels from layer: conv2d_66\n",
      "Deleting 1/256 channels from layer: conv2d_67\n",
      "Deleting 250/256 channels from layer: conv2d_68\n",
      "saving pruned model at /home/ec2-user/Telecom/experiments/saved_models/keras_cnn_pruned_apoz_30.h5\n",
      "Found 3925 images belonging to 10 classes.\n",
      "3925/3925 [==============================] - 63s 16ms/step\n",
      "pruning keras_cnn with method apoz and perc 40\n",
      "Found 944 images belonging to 10 classes.\n",
      "944/944 [==============================] - 7s 7ms/step\n",
      "944/944 [==============================] - 10s 10ms/step\n",
      "944/944 [==============================] - 11s 11ms/step\n",
      "944/944 [==============================] - 13s 14ms/step\n",
      "944/944 [==============================] - 14s 15ms/step\n",
      "944/944 [==============================] - 15s 16ms/step\n",
      "944/944 [==============================] - 16s 17ms/step\n",
      "944/944 [==============================] - 17s 18ms/step\n",
      "Deleting 9/32 channels from layer: conv2d_61\n",
      "Deleting 16/32 channels from layer: conv2d_62\n",
      "Deleting 15/64 channels from layer: conv2d_63\n",
      "Deleting 27/64 channels from layer: conv2d_64\n",
      "Deleting 18/128 channels from layer: conv2d_65\n",
      "Deleting 30/128 channels from layer: conv2d_66\n",
      "Deleting 14/256 channels from layer: conv2d_67\n",
      "Deleting 255/256 channels from layer: conv2d_68\n",
      "saving pruned model at /home/ec2-user/Telecom/experiments/saved_models/keras_cnn_pruned_apoz_40.h5\n",
      "Found 3925 images belonging to 10 classes.\n",
      "3925/3925 [==============================] - 51s 13ms/step\n",
      "pruning keras_cnn with method apoz and perc 50\n",
      "Found 944 images belonging to 10 classes.\n",
      "944/944 [==============================] - 7s 8ms/step\n",
      "944/944 [==============================] - 10s 10ms/step\n",
      "944/944 [==============================] - 11s 11ms/step\n",
      "944/944 [==============================] - 13s 14ms/step\n",
      "944/944 [==============================] - 14s 15ms/step\n",
      "944/944 [==============================] - 15s 16ms/step\n",
      "944/944 [==============================] - 16s 17ms/step\n",
      "944/944 [==============================] - 17s 18ms/step\n",
      "Deleting 11/32 channels from layer: conv2d_61\n",
      "Deleting 22/32 channels from layer: conv2d_62\n",
      "Deleting 26/64 channels from layer: conv2d_63\n",
      "Deleting 42/64 channels from layer: conv2d_64\n",
      "Deleting 36/128 channels from layer: conv2d_65\n",
      "Deleting 59/128 channels from layer: conv2d_66\n",
      "Deleting 29/256 channels from layer: conv2d_67\n",
      "Deleting 255/256 channels from layer: conv2d_68\n",
      "saving pruned model at /home/ec2-user/Telecom/experiments/saved_models/keras_cnn_pruned_apoz_50.h5\n",
      "Found 3925 images belonging to 10 classes.\n",
      "3925/3925 [==============================] - 45s 12ms/step\n"
     ]
    },
    {
     "data": {
      "text/plain": [
       "<__main__.PruningExperiment at 0x7f093306a048>"
      ]
     },
     "execution_count": 29,
     "metadata": {},
     "output_type": "execute_result"
    }
   ],
   "source": [
    "# Apoz all layers\n",
    "exp = PruningExperiment(model_path, ['apoz'], [0.1,0.2,0.3,0.4,0.5])\n",
    "exp.run()"
   ]
  },
  {
   "cell_type": "code",
   "execution_count": 8,
   "metadata": {
    "collapsed": true
   },
   "outputs": [
    {
     "name": "stdout",
     "output_type": "stream",
     "text": [
      "pruning keras_cnn with method random and perc 10\n",
      "Deleting 15/32 channels from layer: conv2d_61\n",
      "Deleting 13/32 channels from layer: conv2d_62\n",
      "Deleting 13/64 channels from layer: conv2d_63\n",
      "Deleting 11/64 channels from layer: conv2d_64\n",
      "Deleting 7/128 channels from layer: conv2d_65\n",
      "Deleting 12/128 channels from layer: conv2d_66\n",
      "Deleting 15/256 channels from layer: conv2d_67\n",
      "Deleting 10/256 channels from layer: conv2d_68\n",
      "saving pruned model at /home/ec2-user/Telecom/experiments/saved_models/keras_cnn_pruned_random_10.h5\n",
      "WARNING:tensorflow:From /home/ec2-user/Telecom/imagenette_notebooks/pruning_utils.py:315: The name tf.profiler.ProfileOptionBuilder is deprecated. Please use tf.compat.v1.profiler.ProfileOptionBuilder instead.\n",
      "\n"
     ]
    },
    {
     "name": "stderr",
     "output_type": "stream",
     "text": [
      "WARNING:tensorflow:From /home/ec2-user/Telecom/imagenette_notebooks/pruning_utils.py:315: The name tf.profiler.ProfileOptionBuilder is deprecated. Please use tf.compat.v1.profiler.ProfileOptionBuilder instead.\n",
      "\n"
     ]
    },
    {
     "name": "stdout",
     "output_type": "stream",
     "text": [
      "WARNING:tensorflow:From /home/ec2-user/anaconda3/envs/amazonei_tensorflow_p36/lib/python3.6/site-packages/tensorflow/python/profiler/internal/flops_registry.py:142: tensor_shape_from_node_def_name (from tensorflow.python.framework.graph_util_impl) is deprecated and will be removed in a future version.\n",
      "Instructions for updating:\n",
      "Use `tf.compat.v1.graph_util.tensor_shape_from_node_def_name`\n"
     ]
    },
    {
     "name": "stderr",
     "output_type": "stream",
     "text": [
      "WARNING:tensorflow:From /home/ec2-user/anaconda3/envs/amazonei_tensorflow_p36/lib/python3.6/site-packages/tensorflow/python/profiler/internal/flops_registry.py:142: tensor_shape_from_node_def_name (from tensorflow.python.framework.graph_util_impl) is deprecated and will be removed in a future version.\n",
      "Instructions for updating:\n",
      "Use `tf.compat.v1.graph_util.tensor_shape_from_node_def_name`\n"
     ]
    },
    {
     "name": "stdout",
     "output_type": "stream",
     "text": [
      "Found 3925 images belonging to 10 classes.\n",
      "3925/3925 [==============================] - 77s 20ms/step\n",
      "pruning keras_cnn with method random and perc 20\n",
      "Deleting 22/32 channels from layer: conv2d_61\n",
      "Deleting 19/32 channels from layer: conv2d_62\n",
      "Deleting 21/64 channels from layer: conv2d_63\n",
      "Deleting 23/64 channels from layer: conv2d_64\n",
      "Deleting 28/128 channels from layer: conv2d_65\n",
      "Deleting 27/128 channels from layer: conv2d_66\n",
      "Deleting 26/256 channels from layer: conv2d_67\n",
      "Deleting 26/256 channels from layer: conv2d_68\n",
      "saving pruned model at /home/ec2-user/Telecom/experiments/saved_models/keras_cnn_pruned_random_20.h5\n",
      "Found 3925 images belonging to 10 classes.\n",
      "3925/3925 [==============================] - 68s 17ms/step\n",
      "pruning keras_cnn with method random and perc 30\n",
      "Deleting 26/32 channels from layer: conv2d_61\n",
      "Deleting 26/32 channels from layer: conv2d_62\n",
      "Deleting 32/64 channels from layer: conv2d_63\n",
      "Deleting 28/64 channels from layer: conv2d_64\n",
      "Deleting 36/128 channels from layer: conv2d_65\n",
      "Deleting 40/128 channels from layer: conv2d_66\n",
      "Deleting 56/256 channels from layer: conv2d_67\n",
      "Deleting 44/256 channels from layer: conv2d_68\n",
      "saving pruned model at /home/ec2-user/Telecom/experiments/saved_models/keras_cnn_pruned_random_30.h5\n",
      "Found 3925 images belonging to 10 classes.\n",
      "3925/3925 [==============================] - 62s 16ms/step\n",
      "pruning keras_cnn with method random and perc 40\n",
      "Deleting 31/32 channels from layer: conv2d_61\n",
      "Deleting 31/32 channels from layer: conv2d_62\n",
      "Deleting 41/64 channels from layer: conv2d_63\n",
      "Deleting 44/64 channels from layer: conv2d_64\n",
      "Deleting 55/128 channels from layer: conv2d_65\n",
      "Deleting 56/128 channels from layer: conv2d_66\n",
      "Deleting 56/256 channels from layer: conv2d_67\n",
      "Deleting 70/256 channels from layer: conv2d_68\n",
      "saving pruned model at /home/ec2-user/Telecom/experiments/saved_models/keras_cnn_pruned_random_40.h5\n",
      "Found 3925 images belonging to 10 classes.\n",
      "3925/3925 [==============================] - 53s 13ms/step\n",
      "pruning keras_cnn with method random and perc 50\n",
      "Deleting 31/32 channels from layer: conv2d_61\n",
      "Deleting 31/32 channels from layer: conv2d_62\n",
      "Deleting 50/64 channels from layer: conv2d_63\n",
      "Deleting 52/64 channels from layer: conv2d_64\n",
      "Deleting 72/128 channels from layer: conv2d_65\n",
      "Deleting 61/128 channels from layer: conv2d_66\n",
      "Deleting 86/256 channels from layer: conv2d_67\n",
      "Deleting 97/256 channels from layer: conv2d_68\n",
      "saving pruned model at /home/ec2-user/Telecom/experiments/saved_models/keras_cnn_pruned_random_50.h5\n",
      "Found 3925 images belonging to 10 classes.\n",
      "3925/3925 [==============================] - 48s 12ms/step\n"
     ]
    },
    {
     "data": {
      "text/plain": [
       "<__main__.PruningExperiment at 0x7feb239dc2b0>"
      ]
     },
     "execution_count": 8,
     "metadata": {},
     "output_type": "execute_result"
    }
   ],
   "source": [
    "# Random all layers\n",
    "exp = PruningExperiment(model_path, ['random'], [0.1,0.2,0.3,0.4,0.5])\n",
    "exp.run()"
   ]
  },
  {
   "cell_type": "code",
   "execution_count": 12,
   "metadata": {
    "collapsed": true
   },
   "outputs": [
    {
     "name": "stdout",
     "output_type": "stream",
     "text": [
      "pruning keras_cnn with method l1 and perc 10\n",
      "Deleting 3/32 channels from layer: conv2d_61\n",
      "saving pruned model at /home/ec2-user/Telecom/experiments/saved_models/keras_cnn_pruned_l1_layer0_10.h5\n",
      "Found 3925 images belonging to 10 classes.\n",
      "3925/3925 [==============================] - 105s 27ms/step\n",
      "pruning keras_cnn with method l1 and perc 20\n",
      "Deleting 6/32 channels from layer: conv2d_61\n",
      "saving pruned model at /home/ec2-user/Telecom/experiments/saved_models/keras_cnn_pruned_l1_layer0_20.h5\n",
      "Found 3925 images belonging to 10 classes.\n",
      "3925/3925 [==============================] - 104s 26ms/step\n",
      "pruning keras_cnn with method l1 and perc 30\n",
      "Deleting 9/32 channels from layer: conv2d_61\n",
      "saving pruned model at /home/ec2-user/Telecom/experiments/saved_models/keras_cnn_pruned_l1_layer0_30.h5\n",
      "Found 3925 images belonging to 10 classes.\n",
      "3925/3925 [==============================] - 104s 26ms/step\n",
      "pruning keras_cnn with method l1 and perc 40\n",
      "Deleting 12/32 channels from layer: conv2d_61\n",
      "saving pruned model at /home/ec2-user/Telecom/experiments/saved_models/keras_cnn_pruned_l1_layer0_40.h5\n",
      "Found 3925 images belonging to 10 classes.\n",
      "3925/3925 [==============================] - 103s 26ms/step\n",
      "pruning keras_cnn with method l1 and perc 50\n",
      "Deleting 16/32 channels from layer: conv2d_61\n",
      "saving pruned model at /home/ec2-user/Telecom/experiments/saved_models/keras_cnn_pruned_l1_layer0_50.h5\n",
      "Found 3925 images belonging to 10 classes.\n",
      "3925/3925 [==============================] - 97s 25ms/step\n",
      "pruning keras_cnn with method apoz and perc 10\n",
      "Found 944 images belonging to 10 classes.\n",
      "944/944 [==============================] - 6s 6ms/step\n",
      "Deleting 3/32 channels from layer: conv2d_61\n",
      "saving pruned model at /home/ec2-user/Telecom/experiments/saved_models/keras_cnn_pruned_apoz_layer0_10.h5\n",
      "Found 3925 images belonging to 10 classes.\n",
      "3925/3925 [==============================] - 103s 26ms/step\n",
      "pruning keras_cnn with method apoz and perc 20\n",
      "Found 944 images belonging to 10 classes.\n",
      "944/944 [==============================] - 6s 6ms/step\n",
      "Deleting 6/32 channels from layer: conv2d_61\n",
      "saving pruned model at /home/ec2-user/Telecom/experiments/saved_models/keras_cnn_pruned_apoz_layer0_20.h5\n",
      "Found 3925 images belonging to 10 classes.\n",
      "3925/3925 [==============================] - 102s 26ms/step\n",
      "pruning keras_cnn with method apoz and perc 30\n",
      "Found 944 images belonging to 10 classes.\n",
      "944/944 [==============================] - 6s 6ms/step\n",
      "Deleting 9/32 channels from layer: conv2d_61\n",
      "saving pruned model at /home/ec2-user/Telecom/experiments/saved_models/keras_cnn_pruned_apoz_layer0_30.h5\n",
      "Found 3925 images belonging to 10 classes.\n",
      "3925/3925 [==============================] - 104s 26ms/step\n",
      "pruning keras_cnn with method apoz and perc 40\n",
      "Found 944 images belonging to 10 classes.\n",
      "944/944 [==============================] - 6s 6ms/step\n",
      "Deleting 12/32 channels from layer: conv2d_61\n",
      "saving pruned model at /home/ec2-user/Telecom/experiments/saved_models/keras_cnn_pruned_apoz_layer0_40.h5\n",
      "Found 3925 images belonging to 10 classes.\n",
      "3925/3925 [==============================] - 103s 26ms/step\n",
      "pruning keras_cnn with method apoz and perc 50\n",
      "Found 944 images belonging to 10 classes.\n",
      "944/944 [==============================] - 6s 6ms/step\n",
      "Deleting 16/32 channels from layer: conv2d_61\n",
      "saving pruned model at /home/ec2-user/Telecom/experiments/saved_models/keras_cnn_pruned_apoz_layer0_50.h5\n",
      "Found 3925 images belonging to 10 classes.\n",
      "3925/3925 [==============================] - 99s 25ms/step\n",
      "pruning keras_cnn with method random and perc 10\n",
      "Deleting 3/32 channels from layer: conv2d_61\n",
      "saving pruned model at /home/ec2-user/Telecom/experiments/saved_models/keras_cnn_pruned_random_layer0_10.h5\n",
      "Found 3925 images belonging to 10 classes.\n",
      "3925/3925 [==============================] - 105s 27ms/step\n",
      "pruning keras_cnn with method random and perc 20\n",
      "Deleting 6/32 channels from layer: conv2d_61\n",
      "saving pruned model at /home/ec2-user/Telecom/experiments/saved_models/keras_cnn_pruned_random_layer0_20.h5\n",
      "Found 3925 images belonging to 10 classes.\n",
      "3925/3925 [==============================] - 103s 26ms/step\n",
      "pruning keras_cnn with method random and perc 30\n",
      "Deleting 9/32 channels from layer: conv2d_61\n",
      "saving pruned model at /home/ec2-user/Telecom/experiments/saved_models/keras_cnn_pruned_random_layer0_30.h5\n",
      "Found 3925 images belonging to 10 classes.\n",
      "3925/3925 [==============================] - 105s 27ms/step\n",
      "pruning keras_cnn with method random and perc 40\n",
      "Deleting 12/32 channels from layer: conv2d_61\n",
      "saving pruned model at /home/ec2-user/Telecom/experiments/saved_models/keras_cnn_pruned_random_layer0_40.h5\n",
      "Found 3925 images belonging to 10 classes.\n",
      "3925/3925 [==============================] - 103s 26ms/step\n",
      "pruning keras_cnn with method random and perc 50\n",
      "Deleting 16/32 channels from layer: conv2d_61\n",
      "saving pruned model at /home/ec2-user/Telecom/experiments/saved_models/keras_cnn_pruned_random_layer0_50.h5\n",
      "Found 3925 images belonging to 10 classes.\n",
      "3925/3925 [==============================] - 100s 25ms/step\n"
     ]
    },
    {
     "data": {
      "text/plain": [
       "<__main__.PruningExperiment at 0x7feaa4086908>"
      ]
     },
     "execution_count": 12,
     "metadata": {},
     "output_type": "execute_result"
    }
   ],
   "source": [
    "# layer 0\n",
    "exp = PruningExperiment(model_path, ['l1','apoz','random'], [0.1,0.2,0.3,0.4,0.5], layer=0)\n",
    "exp.run()"
   ]
  },
  {
   "cell_type": "code",
   "execution_count": 13,
   "metadata": {
    "collapsed": true
   },
   "outputs": [
    {
     "name": "stdout",
     "output_type": "stream",
     "text": [
      "pruning keras_cnn with method l1 and perc 10\n",
      "Deleting 25/256 channels from layer: conv2d_68\n",
      "saving pruned model at /home/ec2-user/Telecom/experiments/saved_models/keras_cnn_pruned_l1_layer20_10.h5\n",
      "Found 3925 images belonging to 10 classes.\n",
      "3925/3925 [==============================] - 85s 22ms/step\n",
      "pruning keras_cnn with method l1 and perc 20\n",
      "Deleting 51/256 channels from layer: conv2d_68\n",
      "saving pruned model at /home/ec2-user/Telecom/experiments/saved_models/keras_cnn_pruned_l1_layer20_20.h5\n",
      "Found 3925 images belonging to 10 classes.\n",
      "3925/3925 [==============================] - 82s 21ms/step\n",
      "pruning keras_cnn with method l1 and perc 30\n",
      "Deleting 76/256 channels from layer: conv2d_68\n",
      "saving pruned model at /home/ec2-user/Telecom/experiments/saved_models/keras_cnn_pruned_l1_layer20_30.h5\n",
      "Found 3925 images belonging to 10 classes.\n",
      "3925/3925 [==============================] - 79s 20ms/step\n",
      "pruning keras_cnn with method l1 and perc 40\n",
      "Deleting 102/256 channels from layer: conv2d_68\n",
      "saving pruned model at /home/ec2-user/Telecom/experiments/saved_models/keras_cnn_pruned_l1_layer20_40.h5\n",
      "Found 3925 images belonging to 10 classes.\n",
      "3925/3925 [==============================] - 77s 20ms/step\n",
      "pruning keras_cnn with method l1 and perc 50\n",
      "Deleting 128/256 channels from layer: conv2d_68\n",
      "saving pruned model at /home/ec2-user/Telecom/experiments/saved_models/keras_cnn_pruned_l1_layer20_50.h5\n",
      "Found 3925 images belonging to 10 classes.\n",
      "3925/3925 [==============================] - 74s 19ms/step\n",
      "pruning keras_cnn with method apoz and perc 10\n",
      "Found 944 images belonging to 10 classes.\n",
      "944/944 [==============================] - 17s 18ms/step\n",
      "Deleting 25/256 channels from layer: conv2d_68\n",
      "saving pruned model at /home/ec2-user/Telecom/experiments/saved_models/keras_cnn_pruned_apoz_layer20_10.h5\n",
      "Found 3925 images belonging to 10 classes.\n",
      "3925/3925 [==============================] - 86s 22ms/step\n",
      "pruning keras_cnn with method apoz and perc 20\n",
      "Found 944 images belonging to 10 classes.\n",
      "944/944 [==============================] - 17s 18ms/step\n",
      "Deleting 51/256 channels from layer: conv2d_68\n",
      "saving pruned model at /home/ec2-user/Telecom/experiments/saved_models/keras_cnn_pruned_apoz_layer20_20.h5\n",
      "Found 3925 images belonging to 10 classes.\n",
      "3925/3925 [==============================] - 83s 21ms/step\n",
      "pruning keras_cnn with method apoz and perc 30\n",
      "Found 944 images belonging to 10 classes.\n",
      "944/944 [==============================] - 17s 18ms/step\n",
      "Deleting 76/256 channels from layer: conv2d_68\n",
      "saving pruned model at /home/ec2-user/Telecom/experiments/saved_models/keras_cnn_pruned_apoz_layer20_30.h5\n",
      "Found 3925 images belonging to 10 classes.\n",
      "3925/3925 [==============================] - 80s 20ms/step\n",
      "pruning keras_cnn with method apoz and perc 40\n",
      "Found 944 images belonging to 10 classes.\n",
      "944/944 [==============================] - 17s 18ms/step\n",
      "Deleting 102/256 channels from layer: conv2d_68\n",
      "saving pruned model at /home/ec2-user/Telecom/experiments/saved_models/keras_cnn_pruned_apoz_layer20_40.h5\n",
      "Found 3925 images belonging to 10 classes.\n",
      "3925/3925 [==============================] - 78s 20ms/step\n",
      "pruning keras_cnn with method apoz and perc 50\n",
      "Found 944 images belonging to 10 classes.\n",
      "944/944 [==============================] - 17s 18ms/step\n",
      "Deleting 128/256 channels from layer: conv2d_68\n",
      "saving pruned model at /home/ec2-user/Telecom/experiments/saved_models/keras_cnn_pruned_apoz_layer20_50.h5\n",
      "Found 3925 images belonging to 10 classes.\n",
      "3925/3925 [==============================] - 75s 19ms/step\n",
      "pruning keras_cnn with method random and perc 10\n",
      "Deleting 25/256 channels from layer: conv2d_68\n",
      "saving pruned model at /home/ec2-user/Telecom/experiments/saved_models/keras_cnn_pruned_random_layer20_10.h5\n",
      "Found 3925 images belonging to 10 classes.\n",
      "3925/3925 [==============================] - 87s 22ms/step\n",
      "pruning keras_cnn with method random and perc 20\n",
      "Deleting 51/256 channels from layer: conv2d_68\n",
      "saving pruned model at /home/ec2-user/Telecom/experiments/saved_models/keras_cnn_pruned_random_layer20_20.h5\n",
      "Found 3925 images belonging to 10 classes.\n",
      "3925/3925 [==============================] - 84s 21ms/step\n",
      "pruning keras_cnn with method random and perc 30\n",
      "Deleting 76/256 channels from layer: conv2d_68\n",
      "saving pruned model at /home/ec2-user/Telecom/experiments/saved_models/keras_cnn_pruned_random_layer20_30.h5\n",
      "Found 3925 images belonging to 10 classes.\n",
      "3925/3925 [==============================] - 81s 21ms/step\n",
      "pruning keras_cnn with method random and perc 40\n",
      "Deleting 102/256 channels from layer: conv2d_68\n",
      "saving pruned model at /home/ec2-user/Telecom/experiments/saved_models/keras_cnn_pruned_random_layer20_40.h5\n",
      "Found 3925 images belonging to 10 classes.\n",
      "3925/3925 [==============================] - 79s 20ms/step\n",
      "pruning keras_cnn with method random and perc 50\n",
      "Deleting 128/256 channels from layer: conv2d_68\n",
      "saving pruned model at /home/ec2-user/Telecom/experiments/saved_models/keras_cnn_pruned_random_layer20_50.h5\n",
      "Found 3925 images belonging to 10 classes.\n",
      "3925/3925 [==============================] - 76s 19ms/step\n"
     ]
    },
    {
     "data": {
      "text/plain": [
       "<__main__.PruningExperiment at 0x7fea9fd9ada0>"
      ]
     },
     "execution_count": 13,
     "metadata": {},
     "output_type": "execute_result"
    }
   ],
   "source": [
    "# last convolution layer\n",
    "exp = PruningExperiment(model_path, ['l1','apoz','random'], [0.1,0.2,0.3,0.4,0.5], layer=20)\n",
    "exp.run()"
   ]
  },
  {
   "cell_type": "code",
   "execution_count": 14,
   "metadata": {
    "collapsed": true
   },
   "outputs": [
    {
     "name": "stdout",
     "output_type": "stream",
     "text": [
      "pruning keras_cnn with method kmeans_random and perc 10\n",
      "Deleting 3/32 channels from layer: conv2d_61\n",
      "saving pruned model at /home/ec2-user/Telecom/experiments/saved_models/keras_cnn_pruned_kmeans_random_layer0_10.h5\n",
      "Found 3925 images belonging to 10 classes.\n",
      "3925/3925 [==============================] - 102s 26ms/step\n",
      "pruning keras_cnn with method kmeans_random and perc 20\n",
      "Deleting 6/32 channels from layer: conv2d_61\n",
      "saving pruned model at /home/ec2-user/Telecom/experiments/saved_models/keras_cnn_pruned_kmeans_random_layer0_20.h5\n",
      "Found 3925 images belonging to 10 classes.\n",
      "3925/3925 [==============================] - 100s 26ms/step\n",
      "pruning keras_cnn with method kmeans_random and perc 30\n",
      "Deleting 9/32 channels from layer: conv2d_61\n",
      "saving pruned model at /home/ec2-user/Telecom/experiments/saved_models/keras_cnn_pruned_kmeans_random_layer0_30.h5\n",
      "Found 3925 images belonging to 10 classes.\n",
      "3925/3925 [==============================] - 102s 26ms/step\n",
      "pruning keras_cnn with method kmeans_random and perc 40\n",
      "Deleting 12/32 channels from layer: conv2d_61\n",
      "saving pruned model at /home/ec2-user/Telecom/experiments/saved_models/keras_cnn_pruned_kmeans_random_layer0_40.h5\n",
      "Found 3925 images belonging to 10 classes.\n",
      "3925/3925 [==============================] - 100s 26ms/step\n",
      "pruning keras_cnn with method kmeans_random and perc 50\n",
      "Deleting 16/32 channels from layer: conv2d_61\n",
      "saving pruned model at /home/ec2-user/Telecom/experiments/saved_models/keras_cnn_pruned_kmeans_random_layer0_50.h5\n",
      "Found 3925 images belonging to 10 classes.\n",
      "3925/3925 [==============================] - 97s 25ms/step\n",
      "pruning keras_cnn with method kmeans_centroid and perc 10\n",
      "Deleting 3/32 channels from layer: conv2d_61\n",
      "saving pruned model at /home/ec2-user/Telecom/experiments/saved_models/keras_cnn_pruned_kmeans_centroid_layer0_10.h5\n",
      "Found 3925 images belonging to 10 classes.\n",
      "3925/3925 [==============================] - 104s 26ms/step\n",
      "pruning keras_cnn with method kmeans_centroid and perc 20\n",
      "Deleting 6/32 channels from layer: conv2d_61\n",
      "saving pruned model at /home/ec2-user/Telecom/experiments/saved_models/keras_cnn_pruned_kmeans_centroid_layer0_20.h5\n",
      "Found 3925 images belonging to 10 classes.\n",
      "3925/3925 [==============================] - 102s 26ms/step\n",
      "pruning keras_cnn with method kmeans_centroid and perc 30\n",
      "Deleting 9/32 channels from layer: conv2d_61\n",
      "saving pruned model at /home/ec2-user/Telecom/experiments/saved_models/keras_cnn_pruned_kmeans_centroid_layer0_30.h5\n",
      "Found 3925 images belonging to 10 classes.\n",
      "3925/3925 [==============================] - 103s 26ms/step\n",
      "pruning keras_cnn with method kmeans_centroid and perc 40\n",
      "Deleting 12/32 channels from layer: conv2d_61\n",
      "saving pruned model at /home/ec2-user/Telecom/experiments/saved_models/keras_cnn_pruned_kmeans_centroid_layer0_40.h5\n",
      "Found 3925 images belonging to 10 classes.\n",
      "3925/3925 [==============================] - 102s 26ms/step\n",
      "pruning keras_cnn with method kmeans_centroid and perc 50\n",
      "Deleting 16/32 channels from layer: conv2d_61\n",
      "saving pruned model at /home/ec2-user/Telecom/experiments/saved_models/keras_cnn_pruned_kmeans_centroid_layer0_50.h5\n",
      "Found 3925 images belonging to 10 classes.\n",
      "3925/3925 [==============================] - 98s 25ms/step\n"
     ]
    },
    {
     "data": {
      "text/plain": [
       "<__main__.PruningExperiment at 0x7feaa4086a20>"
      ]
     },
     "execution_count": 14,
     "metadata": {},
     "output_type": "execute_result"
    }
   ],
   "source": [
    "# first convolution layer kmeans\n",
    "exp = PruningExperiment(model_path, ['kmeans_random','kmeans_centroid'], [0.1,0.2,0.3,0.4,0.5], layer=0)\n",
    "exp.run()"
   ]
  },
  {
   "cell_type": "code",
   "execution_count": 15,
   "metadata": {},
   "outputs": [
    {
     "name": "stdout",
     "output_type": "stream",
     "text": [
      "pruning keras_cnn with method kmeans_random and perc 10\n",
      "Deleting 25/256 channels from layer: conv2d_68\n",
      "saving pruned model at /home/ec2-user/Telecom/experiments/saved_models/keras_cnn_pruned_kmeans_random_layer20_10.h5\n",
      "Found 3925 images belonging to 10 classes.\n",
      "3925/3925 [==============================] - 91s 23ms/step\n",
      "pruning keras_cnn with method kmeans_random and perc 20\n",
      "Deleting 51/256 channels from layer: conv2d_68\n",
      "saving pruned model at /home/ec2-user/Telecom/experiments/saved_models/keras_cnn_pruned_kmeans_random_layer20_20.h5\n",
      "Found 3925 images belonging to 10 classes.\n",
      "3925/3925 [==============================] - 87s 22ms/step\n",
      "pruning keras_cnn with method kmeans_random and perc 30\n",
      "Deleting 76/256 channels from layer: conv2d_68\n",
      "saving pruned model at /home/ec2-user/Telecom/experiments/saved_models/keras_cnn_pruned_kmeans_random_layer20_30.h5\n",
      "Found 3925 images belonging to 10 classes.\n",
      "3925/3925 [==============================] - 85s 22ms/step\n",
      "pruning keras_cnn with method kmeans_random and perc 40\n",
      "Deleting 102/256 channels from layer: conv2d_68\n",
      "saving pruned model at /home/ec2-user/Telecom/experiments/saved_models/keras_cnn_pruned_kmeans_random_layer20_40.h5\n",
      "Found 3925 images belonging to 10 classes.\n",
      "3925/3925 [==============================] - 82s 21ms/step\n",
      "pruning keras_cnn with method kmeans_random and perc 50\n",
      "Deleting 128/256 channels from layer: conv2d_68\n",
      "saving pruned model at /home/ec2-user/Telecom/experiments/saved_models/keras_cnn_pruned_kmeans_random_layer20_50.h5\n",
      "Found 3925 images belonging to 10 classes.\n",
      "3925/3925 [==============================] - 80s 20ms/step\n",
      "pruning keras_cnn with method kmeans_centroid and perc 10\n",
      "Deleting 25/256 channels from layer: conv2d_68\n",
      "saving pruned model at /home/ec2-user/Telecom/experiments/saved_models/keras_cnn_pruned_kmeans_centroid_layer20_10.h5\n",
      "Found 3925 images belonging to 10 classes.\n",
      "3925/3925 [==============================] - 91s 23ms/step\n",
      "pruning keras_cnn with method kmeans_centroid and perc 20\n",
      "Deleting 51/256 channels from layer: conv2d_68\n",
      "saving pruned model at /home/ec2-user/Telecom/experiments/saved_models/keras_cnn_pruned_kmeans_centroid_layer20_20.h5\n",
      "Found 3925 images belonging to 10 classes.\n",
      "3925/3925 [==============================] - 89s 23ms/step\n",
      "pruning keras_cnn with method kmeans_centroid and perc 30\n",
      "Deleting 76/256 channels from layer: conv2d_68\n",
      "saving pruned model at /home/ec2-user/Telecom/experiments/saved_models/keras_cnn_pruned_kmeans_centroid_layer20_30.h5\n",
      "Found 3925 images belonging to 10 classes.\n",
      "3925/3925 [==============================] - 86s 22ms/step\n",
      "pruning keras_cnn with method kmeans_centroid and perc 40\n",
      "Deleting 102/256 channels from layer: conv2d_68\n",
      "saving pruned model at /home/ec2-user/Telecom/experiments/saved_models/keras_cnn_pruned_kmeans_centroid_layer20_40.h5\n",
      "Found 3925 images belonging to 10 classes.\n",
      "3925/3925 [==============================] - 84s 21ms/step\n",
      "pruning keras_cnn with method kmeans_centroid and perc 50\n",
      "Deleting 128/256 channels from layer: conv2d_68\n",
      "saving pruned model at /home/ec2-user/Telecom/experiments/saved_models/keras_cnn_pruned_kmeans_centroid_layer20_50.h5\n",
      "Found 3925 images belonging to 10 classes.\n",
      "3925/3925 [==============================] - 81s 21ms/step\n"
     ]
    },
    {
     "data": {
      "text/plain": [
       "<__main__.PruningExperiment at 0x7feaa4086390>"
      ]
     },
     "execution_count": 15,
     "metadata": {},
     "output_type": "execute_result"
    }
   ],
   "source": [
    "# last convolution layer kmeans\n",
    "exp = PruningExperiment(model_path, ['kmeans_random','kmeans_centroid'], [0.1,0.2,0.3,0.4,0.5], layer=20)\n",
    "exp.run()"
   ]
  },
  {
   "cell_type": "code",
   "execution_count": null,
   "metadata": {},
   "outputs": [],
   "source": []
  }
 ],
 "metadata": {
  "kernelspec": {
   "display_name": "Environment (conda_amazonei_tensorflow_p36)",
   "language": "python",
   "name": "conda_amazonei_tensorflow_p36"
  },
  "language_info": {
   "codemirror_mode": {
    "name": "ipython",
    "version": 3
   },
   "file_extension": ".py",
   "mimetype": "text/x-python",
   "name": "python",
   "nbconvert_exporter": "python",
   "pygments_lexer": "ipython3",
   "version": "3.6.5"
  }
 },
 "nbformat": 4,
 "nbformat_minor": 2
}
